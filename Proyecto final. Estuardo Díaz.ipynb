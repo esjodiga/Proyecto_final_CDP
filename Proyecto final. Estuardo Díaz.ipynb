{
 "cells": [
  {
   "cell_type": "markdown",
   "id": "d316a3bb",
   "metadata": {},
   "source": [
    "### Estuardo J. Díaz García (22008995)"
   ]
  },
  {
   "cell_type": "markdown",
   "id": "ab01493c",
   "metadata": {},
   "source": [
    "# Proyecto final. Ciencia de Datos en Python.\n",
    "---\n",
    "Regresiones lineales univariadas usando gradiente descendente y librería Scikit Learn"
   ]
  },
  {
   "cell_type": "code",
   "execution_count": 50,
   "id": "7276b1d8",
   "metadata": {},
   "outputs": [],
   "source": [
    "import numpy as np\n",
    "import pandas as pd\n",
    "import sklearn as sk\n",
    "from sklearn.linear_model import LinearRegression\n",
    "import seaborn as sns\n",
    "import matplotlib.pyplot as plt"
   ]
  },
  {
   "cell_type": "code",
   "execution_count": 51,
   "id": "77eb6d84",
   "metadata": {},
   "outputs": [],
   "source": [
    "dataset = np.load(\"proyecto_training_data.npy\")"
   ]
  },
  {
   "cell_type": "code",
   "execution_count": 52,
   "id": "f9340120",
   "metadata": {},
   "outputs": [
    {
     "data": {
      "text/plain": [
       "(1460, 6)"
      ]
     },
     "execution_count": 52,
     "metadata": {},
     "output_type": "execute_result"
    }
   ],
   "source": [
    "dataset.shape"
   ]
  },
  {
   "cell_type": "code",
   "execution_count": 53,
   "id": "e47dbf5c",
   "metadata": {},
   "outputs": [],
   "source": [
    "train_set= dataset[0:1168,0:]\n",
    "test_set= dataset[1168:,0:]\n",
    "\n",
    "train_x_np = dataset[0:1168,1:]\n",
    "train_y_np = dataset[0:1168,0:1]\n",
    "test_x_np = dataset[1168:,1:]\n",
    "test_y_np = dataset[1168:,0:1]"
   ]
  },
  {
   "cell_type": "code",
   "execution_count": 54,
   "id": "fe9274da",
   "metadata": {},
   "outputs": [
    {
     "data": {
      "text/plain": [
       "(1168, 5)"
      ]
     },
     "execution_count": 54,
     "metadata": {},
     "output_type": "execute_result"
    }
   ],
   "source": [
    "train_x_np.shape"
   ]
  },
  {
   "cell_type": "code",
   "execution_count": 55,
   "id": "c70c8e05",
   "metadata": {},
   "outputs": [
    {
     "data": {
      "text/plain": [
       "(1168, 1)"
      ]
     },
     "execution_count": 55,
     "metadata": {},
     "output_type": "execute_result"
    }
   ],
   "source": [
    "train_y_np.shape"
   ]
  },
  {
   "cell_type": "code",
   "execution_count": 56,
   "id": "ddcda6a6",
   "metadata": {},
   "outputs": [
    {
     "data": {
      "text/plain": [
       "(292, 5)"
      ]
     },
     "execution_count": 56,
     "metadata": {},
     "output_type": "execute_result"
    }
   ],
   "source": [
    "test_x_np.shape"
   ]
  },
  {
   "cell_type": "code",
   "execution_count": 57,
   "id": "5aab55d6",
   "metadata": {},
   "outputs": [
    {
     "data": {
      "text/plain": [
       "(292, 1)"
      ]
     },
     "execution_count": 57,
     "metadata": {},
     "output_type": "execute_result"
    }
   ],
   "source": [
    "test_y_np.shape"
   ]
  },
  {
   "cell_type": "code",
   "execution_count": 58,
   "id": "d21790fb",
   "metadata": {},
   "outputs": [
    {
     "data": {
      "text/plain": [
       "(1168, 6)"
      ]
     },
     "execution_count": 58,
     "metadata": {},
     "output_type": "execute_result"
    }
   ],
   "source": [
    "train_set.shape"
   ]
  },
  {
   "cell_type": "code",
   "execution_count": 59,
   "id": "16e2426a",
   "metadata": {},
   "outputs": [
    {
     "data": {
      "text/plain": [
       "(292, 6)"
      ]
     },
     "execution_count": 59,
     "metadata": {},
     "output_type": "execute_result"
    }
   ],
   "source": [
    "test_set.shape"
   ]
  },
  {
   "cell_type": "code",
   "execution_count": 60,
   "id": "37fb849e",
   "metadata": {},
   "outputs": [],
   "source": [
    "dataset_df = pd.DataFrame(dataset,columns=[\"SalePrice\",\"OverallQual\",\"1stFloorSF\",\"TotalRooms\",\"YearBuilt\",\"LotFrontage\"])\n",
    "\n",
    "train_set_df = pd.DataFrame(train_set,columns=[\"SalePrice\",\"OverallQual\",\"1stFloorSF\",\"TotalRooms\",\"YearBuilt\",\"LotFrontage\"])\n",
    "test_set_df = pd.DataFrame(test_set,columns=[\"SalePrice\",\"OverallQual\",\"1stFloorSF\",\"TotalRooms\",\"YearBuilt\",\"LotFrontage\"])\n",
    "\n",
    "train_x_df = pd.DataFrame(train_x_np,columns=[\"OverallQual\",\"1stFloorSF\",\"TotalRooms\",\"YearBuilt\",\"LotFrontage\"])\n",
    "train_y_df = pd.DataFrame(train_y_np,columns=[\"SalePrice\"])\n",
    "test_x_df = pd.DataFrame(test_x_np,columns=[\"OverallQual\",\"1stFloorSF\",\"TotalRooms\",\"YearBuilt\",\"LotFrontage\"])\n",
    "test_y_df = pd.DataFrame(test_y_np,columns=[\"SalePrice\"])"
   ]
  },
  {
   "cell_type": "code",
   "execution_count": 61,
   "id": "05bfc78b",
   "metadata": {
    "scrolled": false
   },
   "outputs": [
    {
     "data": {
      "text/plain": [
       "SalePrice        0\n",
       "OverallQual      0\n",
       "1stFloorSF       0\n",
       "TotalRooms       0\n",
       "YearBuilt        0\n",
       "LotFrontage    206\n",
       "dtype: int64"
      ]
     },
     "execution_count": 61,
     "metadata": {},
     "output_type": "execute_result"
    }
   ],
   "source": [
    "train_set_df.isnull().sum()\n",
    "#Se comprueba que existen valores no numéricos (NaN) en el data frame de entrenamiento"
   ]
  },
  {
   "cell_type": "code",
   "execution_count": 62,
   "id": "838a0f28",
   "metadata": {},
   "outputs": [
    {
     "data": {
      "text/plain": [
       "SalePrice       0\n",
       "OverallQual     0\n",
       "1stFloorSF      0\n",
       "TotalRooms      0\n",
       "YearBuilt       0\n",
       "LotFrontage    53\n",
       "dtype: int64"
      ]
     },
     "execution_count": 62,
     "metadata": {},
     "output_type": "execute_result"
    }
   ],
   "source": [
    "test_set_df.isnull().sum()\n",
    "#Se comprueba que existen valores no numéricos (NaN) en el data frame de testeo"
   ]
  },
  {
   "cell_type": "code",
   "execution_count": 63,
   "id": "45a6683a",
   "metadata": {},
   "outputs": [
    {
     "data": {
      "text/plain": [
       "SalePrice      0\n",
       "OverallQual    0\n",
       "1stFloorSF     0\n",
       "TotalRooms     0\n",
       "YearBuilt      0\n",
       "LotFrontage    0\n",
       "dtype: int64"
      ]
     },
     "execution_count": 63,
     "metadata": {},
     "output_type": "execute_result"
    }
   ],
   "source": [
    "#Se sustituyen todos los NaN por la media de la variable \"LotFrontage\" dado que sigue una distribución normal\n",
    "no_nan_train=train_set_df.replace(np.nan,70.05)\n",
    "no_nan_test=test_set_df.replace(np.nan,70.05)\n",
    "\n",
    "train_set_df=pd.DataFrame(no_nan_train)\n",
    "test_set_df=pd.DataFrame(no_nan_test)\n",
    "\n",
    "train_set_df.isnull().sum()\n",
    "#Se comprueba que ya no existen valores no numéricos (NaN) en el data frame de entrenamiento"
   ]
  },
  {
   "cell_type": "code",
   "execution_count": 64,
   "id": "1fc628e2",
   "metadata": {},
   "outputs": [
    {
     "data": {
      "text/plain": [
       "SalePrice      0\n",
       "OverallQual    0\n",
       "1stFloorSF     0\n",
       "TotalRooms     0\n",
       "YearBuilt      0\n",
       "LotFrontage    0\n",
       "dtype: int64"
      ]
     },
     "execution_count": 64,
     "metadata": {},
     "output_type": "execute_result"
    }
   ],
   "source": [
    "#Se comprueba que ya no existen valores no numéricos (NaN) en el data frame de testeo\n",
    "train_set_df.isnull().sum()"
   ]
  },
  {
   "cell_type": "code",
   "execution_count": 65,
   "id": "76c5bb2b",
   "metadata": {},
   "outputs": [
    {
     "data": {
      "text/html": [
       "<div>\n",
       "<style scoped>\n",
       "    .dataframe tbody tr th:only-of-type {\n",
       "        vertical-align: middle;\n",
       "    }\n",
       "\n",
       "    .dataframe tbody tr th {\n",
       "        vertical-align: top;\n",
       "    }\n",
       "\n",
       "    .dataframe thead th {\n",
       "        text-align: right;\n",
       "    }\n",
       "</style>\n",
       "<table border=\"1\" class=\"dataframe\">\n",
       "  <thead>\n",
       "    <tr style=\"text-align: right;\">\n",
       "      <th></th>\n",
       "      <th>SalePrice</th>\n",
       "      <th>OverallQual</th>\n",
       "      <th>1stFloorSF</th>\n",
       "      <th>TotalRooms</th>\n",
       "      <th>YearBuilt</th>\n",
       "      <th>LotFrontage</th>\n",
       "    </tr>\n",
       "  </thead>\n",
       "  <tbody>\n",
       "    <tr>\n",
       "      <th>0</th>\n",
       "      <td>208500.0</td>\n",
       "      <td>7.0</td>\n",
       "      <td>856.0</td>\n",
       "      <td>8.0</td>\n",
       "      <td>2003.0</td>\n",
       "      <td>65.00</td>\n",
       "    </tr>\n",
       "    <tr>\n",
       "      <th>1</th>\n",
       "      <td>181500.0</td>\n",
       "      <td>6.0</td>\n",
       "      <td>1262.0</td>\n",
       "      <td>6.0</td>\n",
       "      <td>1976.0</td>\n",
       "      <td>80.00</td>\n",
       "    </tr>\n",
       "    <tr>\n",
       "      <th>2</th>\n",
       "      <td>223500.0</td>\n",
       "      <td>7.0</td>\n",
       "      <td>920.0</td>\n",
       "      <td>6.0</td>\n",
       "      <td>2001.0</td>\n",
       "      <td>68.00</td>\n",
       "    </tr>\n",
       "    <tr>\n",
       "      <th>3</th>\n",
       "      <td>140000.0</td>\n",
       "      <td>7.0</td>\n",
       "      <td>961.0</td>\n",
       "      <td>7.0</td>\n",
       "      <td>1915.0</td>\n",
       "      <td>60.00</td>\n",
       "    </tr>\n",
       "    <tr>\n",
       "      <th>4</th>\n",
       "      <td>250000.0</td>\n",
       "      <td>8.0</td>\n",
       "      <td>1145.0</td>\n",
       "      <td>9.0</td>\n",
       "      <td>2000.0</td>\n",
       "      <td>84.00</td>\n",
       "    </tr>\n",
       "    <tr>\n",
       "      <th>...</th>\n",
       "      <td>...</td>\n",
       "      <td>...</td>\n",
       "      <td>...</td>\n",
       "      <td>...</td>\n",
       "      <td>...</td>\n",
       "      <td>...</td>\n",
       "    </tr>\n",
       "    <tr>\n",
       "      <th>1163</th>\n",
       "      <td>108959.0</td>\n",
       "      <td>4.0</td>\n",
       "      <td>1258.0</td>\n",
       "      <td>6.0</td>\n",
       "      <td>1969.0</td>\n",
       "      <td>60.00</td>\n",
       "    </tr>\n",
       "    <tr>\n",
       "      <th>1164</th>\n",
       "      <td>194000.0</td>\n",
       "      <td>5.0</td>\n",
       "      <td>1432.0</td>\n",
       "      <td>5.0</td>\n",
       "      <td>1978.0</td>\n",
       "      <td>70.05</td>\n",
       "    </tr>\n",
       "    <tr>\n",
       "      <th>1165</th>\n",
       "      <td>233170.0</td>\n",
       "      <td>7.0</td>\n",
       "      <td>1502.0</td>\n",
       "      <td>7.0</td>\n",
       "      <td>2009.0</td>\n",
       "      <td>79.00</td>\n",
       "    </tr>\n",
       "    <tr>\n",
       "      <th>1166</th>\n",
       "      <td>245350.0</td>\n",
       "      <td>8.0</td>\n",
       "      <td>1694.0</td>\n",
       "      <td>7.0</td>\n",
       "      <td>2008.0</td>\n",
       "      <td>64.00</td>\n",
       "    </tr>\n",
       "    <tr>\n",
       "      <th>1167</th>\n",
       "      <td>173000.0</td>\n",
       "      <td>6.0</td>\n",
       "      <td>959.0</td>\n",
       "      <td>7.0</td>\n",
       "      <td>2000.0</td>\n",
       "      <td>58.00</td>\n",
       "    </tr>\n",
       "  </tbody>\n",
       "</table>\n",
       "<p>1168 rows × 6 columns</p>\n",
       "</div>"
      ],
      "text/plain": [
       "      SalePrice  OverallQual  1stFloorSF  TotalRooms  YearBuilt  LotFrontage\n",
       "0      208500.0          7.0       856.0         8.0     2003.0        65.00\n",
       "1      181500.0          6.0      1262.0         6.0     1976.0        80.00\n",
       "2      223500.0          7.0       920.0         6.0     2001.0        68.00\n",
       "3      140000.0          7.0       961.0         7.0     1915.0        60.00\n",
       "4      250000.0          8.0      1145.0         9.0     2000.0        84.00\n",
       "...         ...          ...         ...         ...        ...          ...\n",
       "1163   108959.0          4.0      1258.0         6.0     1969.0        60.00\n",
       "1164   194000.0          5.0      1432.0         5.0     1978.0        70.05\n",
       "1165   233170.0          7.0      1502.0         7.0     2009.0        79.00\n",
       "1166   245350.0          8.0      1694.0         7.0     2008.0        64.00\n",
       "1167   173000.0          6.0       959.0         7.0     2000.0        58.00\n",
       "\n",
       "[1168 rows x 6 columns]"
      ]
     },
     "execution_count": 65,
     "metadata": {},
     "output_type": "execute_result"
    }
   ],
   "source": [
    "train_set_df"
   ]
  },
  {
   "cell_type": "code",
   "execution_count": 66,
   "id": "4f89a87a",
   "metadata": {},
   "outputs": [
    {
     "name": "stdout",
     "output_type": "stream",
     "text": [
      "(1460, 6)\n"
     ]
    },
    {
     "data": {
      "text/html": [
       "<div>\n",
       "<style scoped>\n",
       "    .dataframe tbody tr th:only-of-type {\n",
       "        vertical-align: middle;\n",
       "    }\n",
       "\n",
       "    .dataframe tbody tr th {\n",
       "        vertical-align: top;\n",
       "    }\n",
       "\n",
       "    .dataframe thead th {\n",
       "        text-align: right;\n",
       "    }\n",
       "</style>\n",
       "<table border=\"1\" class=\"dataframe\">\n",
       "  <thead>\n",
       "    <tr style=\"text-align: right;\">\n",
       "      <th></th>\n",
       "      <th>SalePrice</th>\n",
       "      <th>OverallQual</th>\n",
       "      <th>1stFloorSF</th>\n",
       "      <th>TotalRooms</th>\n",
       "      <th>YearBuilt</th>\n",
       "      <th>LotFrontage</th>\n",
       "    </tr>\n",
       "  </thead>\n",
       "  <tbody>\n",
       "    <tr>\n",
       "      <th>0</th>\n",
       "      <td>208500.0</td>\n",
       "      <td>7.0</td>\n",
       "      <td>856.0</td>\n",
       "      <td>8.0</td>\n",
       "      <td>2003.0</td>\n",
       "      <td>65.0</td>\n",
       "    </tr>\n",
       "    <tr>\n",
       "      <th>1</th>\n",
       "      <td>181500.0</td>\n",
       "      <td>6.0</td>\n",
       "      <td>1262.0</td>\n",
       "      <td>6.0</td>\n",
       "      <td>1976.0</td>\n",
       "      <td>80.0</td>\n",
       "    </tr>\n",
       "    <tr>\n",
       "      <th>2</th>\n",
       "      <td>223500.0</td>\n",
       "      <td>7.0</td>\n",
       "      <td>920.0</td>\n",
       "      <td>6.0</td>\n",
       "      <td>2001.0</td>\n",
       "      <td>68.0</td>\n",
       "    </tr>\n",
       "    <tr>\n",
       "      <th>3</th>\n",
       "      <td>140000.0</td>\n",
       "      <td>7.0</td>\n",
       "      <td>961.0</td>\n",
       "      <td>7.0</td>\n",
       "      <td>1915.0</td>\n",
       "      <td>60.0</td>\n",
       "    </tr>\n",
       "    <tr>\n",
       "      <th>4</th>\n",
       "      <td>250000.0</td>\n",
       "      <td>8.0</td>\n",
       "      <td>1145.0</td>\n",
       "      <td>9.0</td>\n",
       "      <td>2000.0</td>\n",
       "      <td>84.0</td>\n",
       "    </tr>\n",
       "  </tbody>\n",
       "</table>\n",
       "</div>"
      ],
      "text/plain": [
       "   SalePrice  OverallQual  1stFloorSF  TotalRooms  YearBuilt  LotFrontage\n",
       "0   208500.0          7.0       856.0         8.0     2003.0         65.0\n",
       "1   181500.0          6.0      1262.0         6.0     1976.0         80.0\n",
       "2   223500.0          7.0       920.0         6.0     2001.0         68.0\n",
       "3   140000.0          7.0       961.0         7.0     1915.0         60.0\n",
       "4   250000.0          8.0      1145.0         9.0     2000.0         84.0"
      ]
     },
     "execution_count": 66,
     "metadata": {},
     "output_type": "execute_result"
    }
   ],
   "source": [
    "print(dataset_df.shape)\n",
    "dataset_df.head()"
   ]
  },
  {
   "cell_type": "code",
   "execution_count": 67,
   "id": "15657263",
   "metadata": {
    "scrolled": true
   },
   "outputs": [
    {
     "name": "stdout",
     "output_type": "stream",
     "text": [
      "(1460, 6)\n"
     ]
    },
    {
     "data": {
      "text/html": [
       "<div>\n",
       "<style scoped>\n",
       "    .dataframe tbody tr th:only-of-type {\n",
       "        vertical-align: middle;\n",
       "    }\n",
       "\n",
       "    .dataframe tbody tr th {\n",
       "        vertical-align: top;\n",
       "    }\n",
       "\n",
       "    .dataframe thead th {\n",
       "        text-align: right;\n",
       "    }\n",
       "</style>\n",
       "<table border=\"1\" class=\"dataframe\">\n",
       "  <thead>\n",
       "    <tr style=\"text-align: right;\">\n",
       "      <th></th>\n",
       "      <th>SalePrice</th>\n",
       "      <th>OverallQual</th>\n",
       "      <th>1stFloorSF</th>\n",
       "      <th>TotalRooms</th>\n",
       "      <th>YearBuilt</th>\n",
       "      <th>LotFrontage</th>\n",
       "    </tr>\n",
       "  </thead>\n",
       "  <tbody>\n",
       "    <tr>\n",
       "      <th>count</th>\n",
       "      <td>1460.000000</td>\n",
       "      <td>1460.000000</td>\n",
       "      <td>1460.000000</td>\n",
       "      <td>1460.000000</td>\n",
       "      <td>1460.000000</td>\n",
       "      <td>1201.000000</td>\n",
       "    </tr>\n",
       "    <tr>\n",
       "      <th>mean</th>\n",
       "      <td>180921.195890</td>\n",
       "      <td>6.099315</td>\n",
       "      <td>1162.626712</td>\n",
       "      <td>6.517808</td>\n",
       "      <td>1971.267808</td>\n",
       "      <td>70.049958</td>\n",
       "    </tr>\n",
       "    <tr>\n",
       "      <th>std</th>\n",
       "      <td>79442.502883</td>\n",
       "      <td>1.382997</td>\n",
       "      <td>386.587738</td>\n",
       "      <td>1.625393</td>\n",
       "      <td>30.202904</td>\n",
       "      <td>24.284752</td>\n",
       "    </tr>\n",
       "    <tr>\n",
       "      <th>min</th>\n",
       "      <td>34900.000000</td>\n",
       "      <td>1.000000</td>\n",
       "      <td>334.000000</td>\n",
       "      <td>2.000000</td>\n",
       "      <td>1872.000000</td>\n",
       "      <td>21.000000</td>\n",
       "    </tr>\n",
       "    <tr>\n",
       "      <th>25%</th>\n",
       "      <td>129975.000000</td>\n",
       "      <td>5.000000</td>\n",
       "      <td>882.000000</td>\n",
       "      <td>5.000000</td>\n",
       "      <td>1954.000000</td>\n",
       "      <td>59.000000</td>\n",
       "    </tr>\n",
       "    <tr>\n",
       "      <th>50%</th>\n",
       "      <td>163000.000000</td>\n",
       "      <td>6.000000</td>\n",
       "      <td>1087.000000</td>\n",
       "      <td>6.000000</td>\n",
       "      <td>1973.000000</td>\n",
       "      <td>69.000000</td>\n",
       "    </tr>\n",
       "    <tr>\n",
       "      <th>75%</th>\n",
       "      <td>214000.000000</td>\n",
       "      <td>7.000000</td>\n",
       "      <td>1391.250000</td>\n",
       "      <td>7.000000</td>\n",
       "      <td>2000.000000</td>\n",
       "      <td>80.000000</td>\n",
       "    </tr>\n",
       "    <tr>\n",
       "      <th>max</th>\n",
       "      <td>755000.000000</td>\n",
       "      <td>10.000000</td>\n",
       "      <td>4692.000000</td>\n",
       "      <td>14.000000</td>\n",
       "      <td>2010.000000</td>\n",
       "      <td>313.000000</td>\n",
       "    </tr>\n",
       "  </tbody>\n",
       "</table>\n",
       "</div>"
      ],
      "text/plain": [
       "           SalePrice  OverallQual   1stFloorSF   TotalRooms    YearBuilt  \\\n",
       "count    1460.000000  1460.000000  1460.000000  1460.000000  1460.000000   \n",
       "mean   180921.195890     6.099315  1162.626712     6.517808  1971.267808   \n",
       "std     79442.502883     1.382997   386.587738     1.625393    30.202904   \n",
       "min     34900.000000     1.000000   334.000000     2.000000  1872.000000   \n",
       "25%    129975.000000     5.000000   882.000000     5.000000  1954.000000   \n",
       "50%    163000.000000     6.000000  1087.000000     6.000000  1973.000000   \n",
       "75%    214000.000000     7.000000  1391.250000     7.000000  2000.000000   \n",
       "max    755000.000000    10.000000  4692.000000    14.000000  2010.000000   \n",
       "\n",
       "       LotFrontage  \n",
       "count  1201.000000  \n",
       "mean     70.049958  \n",
       "std      24.284752  \n",
       "min      21.000000  \n",
       "25%      59.000000  \n",
       "50%      69.000000  \n",
       "75%      80.000000  \n",
       "max     313.000000  "
      ]
     },
     "execution_count": 67,
     "metadata": {},
     "output_type": "execute_result"
    }
   ],
   "source": [
    "print(dataset_df.shape)\n",
    "dataset_df.describe()"
   ]
  },
  {
   "cell_type": "code",
   "execution_count": 68,
   "id": "a232b001",
   "metadata": {
    "scrolled": true
   },
   "outputs": [
    {
     "name": "stdout",
     "output_type": "stream",
     "text": [
      "(1168, 6)\n"
     ]
    },
    {
     "data": {
      "text/html": [
       "<div>\n",
       "<style scoped>\n",
       "    .dataframe tbody tr th:only-of-type {\n",
       "        vertical-align: middle;\n",
       "    }\n",
       "\n",
       "    .dataframe tbody tr th {\n",
       "        vertical-align: top;\n",
       "    }\n",
       "\n",
       "    .dataframe thead th {\n",
       "        text-align: right;\n",
       "    }\n",
       "</style>\n",
       "<table border=\"1\" class=\"dataframe\">\n",
       "  <thead>\n",
       "    <tr style=\"text-align: right;\">\n",
       "      <th></th>\n",
       "      <th>SalePrice</th>\n",
       "      <th>OverallQual</th>\n",
       "      <th>1stFloorSF</th>\n",
       "      <th>TotalRooms</th>\n",
       "      <th>YearBuilt</th>\n",
       "      <th>LotFrontage</th>\n",
       "    </tr>\n",
       "  </thead>\n",
       "  <tbody>\n",
       "    <tr>\n",
       "      <th>count</th>\n",
       "      <td>1168.000000</td>\n",
       "      <td>1168.000000</td>\n",
       "      <td>1168.000000</td>\n",
       "      <td>1168.000000</td>\n",
       "      <td>1168.000000</td>\n",
       "      <td>1168.000000</td>\n",
       "    </tr>\n",
       "    <tr>\n",
       "      <th>mean</th>\n",
       "      <td>180590.277397</td>\n",
       "      <td>6.101027</td>\n",
       "      <td>1156.323630</td>\n",
       "      <td>6.485445</td>\n",
       "      <td>1971.451199</td>\n",
       "      <td>69.965154</td>\n",
       "    </tr>\n",
       "    <tr>\n",
       "      <th>std</th>\n",
       "      <td>78815.697902</td>\n",
       "      <td>1.378025</td>\n",
       "      <td>373.780374</td>\n",
       "      <td>1.609141</td>\n",
       "      <td>29.951707</td>\n",
       "      <td>21.305468</td>\n",
       "    </tr>\n",
       "    <tr>\n",
       "      <th>min</th>\n",
       "      <td>34900.000000</td>\n",
       "      <td>1.000000</td>\n",
       "      <td>334.000000</td>\n",
       "      <td>2.000000</td>\n",
       "      <td>1875.000000</td>\n",
       "      <td>21.000000</td>\n",
       "    </tr>\n",
       "    <tr>\n",
       "      <th>25%</th>\n",
       "      <td>129900.000000</td>\n",
       "      <td>5.000000</td>\n",
       "      <td>882.000000</td>\n",
       "      <td>5.000000</td>\n",
       "      <td>1954.000000</td>\n",
       "      <td>60.000000</td>\n",
       "    </tr>\n",
       "    <tr>\n",
       "      <th>50%</th>\n",
       "      <td>162950.000000</td>\n",
       "      <td>6.000000</td>\n",
       "      <td>1086.000000</td>\n",
       "      <td>6.000000</td>\n",
       "      <td>1973.000000</td>\n",
       "      <td>70.050000</td>\n",
       "    </tr>\n",
       "    <tr>\n",
       "      <th>75%</th>\n",
       "      <td>214000.000000</td>\n",
       "      <td>7.000000</td>\n",
       "      <td>1390.250000</td>\n",
       "      <td>7.000000</td>\n",
       "      <td>2000.000000</td>\n",
       "      <td>79.000000</td>\n",
       "    </tr>\n",
       "    <tr>\n",
       "      <th>max</th>\n",
       "      <td>755000.000000</td>\n",
       "      <td>10.000000</td>\n",
       "      <td>3228.000000</td>\n",
       "      <td>14.000000</td>\n",
       "      <td>2010.000000</td>\n",
       "      <td>313.000000</td>\n",
       "    </tr>\n",
       "  </tbody>\n",
       "</table>\n",
       "</div>"
      ],
      "text/plain": [
       "           SalePrice  OverallQual   1stFloorSF   TotalRooms    YearBuilt  \\\n",
       "count    1168.000000  1168.000000  1168.000000  1168.000000  1168.000000   \n",
       "mean   180590.277397     6.101027  1156.323630     6.485445  1971.451199   \n",
       "std     78815.697902     1.378025   373.780374     1.609141    29.951707   \n",
       "min     34900.000000     1.000000   334.000000     2.000000  1875.000000   \n",
       "25%    129900.000000     5.000000   882.000000     5.000000  1954.000000   \n",
       "50%    162950.000000     6.000000  1086.000000     6.000000  1973.000000   \n",
       "75%    214000.000000     7.000000  1390.250000     7.000000  2000.000000   \n",
       "max    755000.000000    10.000000  3228.000000    14.000000  2010.000000   \n",
       "\n",
       "       LotFrontage  \n",
       "count  1168.000000  \n",
       "mean     69.965154  \n",
       "std      21.305468  \n",
       "min      21.000000  \n",
       "25%      60.000000  \n",
       "50%      70.050000  \n",
       "75%      79.000000  \n",
       "max     313.000000  "
      ]
     },
     "execution_count": 68,
     "metadata": {},
     "output_type": "execute_result"
    }
   ],
   "source": [
    "print(train_set_df.shape)\n",
    "train_set_df.describe()"
   ]
  },
  {
   "cell_type": "code",
   "execution_count": 69,
   "id": "2b62dd7e",
   "metadata": {
    "scrolled": true
   },
   "outputs": [
    {
     "data": {
      "text/html": [
       "<div>\n",
       "<style scoped>\n",
       "    .dataframe tbody tr th:only-of-type {\n",
       "        vertical-align: middle;\n",
       "    }\n",
       "\n",
       "    .dataframe tbody tr th {\n",
       "        vertical-align: top;\n",
       "    }\n",
       "\n",
       "    .dataframe thead th {\n",
       "        text-align: right;\n",
       "    }\n",
       "</style>\n",
       "<table border=\"1\" class=\"dataframe\">\n",
       "  <thead>\n",
       "    <tr style=\"text-align: right;\">\n",
       "      <th></th>\n",
       "      <th>SalePrice</th>\n",
       "      <th>OverallQual</th>\n",
       "      <th>1stFloorSF</th>\n",
       "      <th>TotalRooms</th>\n",
       "      <th>YearBuilt</th>\n",
       "      <th>LotFrontage</th>\n",
       "    </tr>\n",
       "  </thead>\n",
       "  <tbody>\n",
       "    <tr>\n",
       "      <th>count</th>\n",
       "      <td>292.000000</td>\n",
       "      <td>292.000000</td>\n",
       "      <td>292.000000</td>\n",
       "      <td>292.000000</td>\n",
       "      <td>292.000000</td>\n",
       "      <td>292.000000</td>\n",
       "    </tr>\n",
       "    <tr>\n",
       "      <th>mean</th>\n",
       "      <td>182244.869863</td>\n",
       "      <td>6.092466</td>\n",
       "      <td>1187.839041</td>\n",
       "      <td>6.647260</td>\n",
       "      <td>1970.534247</td>\n",
       "      <td>70.389212</td>\n",
       "    </tr>\n",
       "    <tr>\n",
       "      <th>std</th>\n",
       "      <td>82026.898202</td>\n",
       "      <td>1.405076</td>\n",
       "      <td>433.843272</td>\n",
       "      <td>1.685462</td>\n",
       "      <td>31.229373</td>\n",
       "      <td>24.727303</td>\n",
       "    </tr>\n",
       "    <tr>\n",
       "      <th>min</th>\n",
       "      <td>52500.000000</td>\n",
       "      <td>3.000000</td>\n",
       "      <td>483.000000</td>\n",
       "      <td>3.000000</td>\n",
       "      <td>1872.000000</td>\n",
       "      <td>21.000000</td>\n",
       "    </tr>\n",
       "    <tr>\n",
       "      <th>25%</th>\n",
       "      <td>130000.000000</td>\n",
       "      <td>5.000000</td>\n",
       "      <td>881.250000</td>\n",
       "      <td>6.000000</td>\n",
       "      <td>1950.000000</td>\n",
       "      <td>60.000000</td>\n",
       "    </tr>\n",
       "    <tr>\n",
       "      <th>50%</th>\n",
       "      <td>163500.000000</td>\n",
       "      <td>6.000000</td>\n",
       "      <td>1106.000000</td>\n",
       "      <td>6.000000</td>\n",
       "      <td>1971.500000</td>\n",
       "      <td>70.050000</td>\n",
       "    </tr>\n",
       "    <tr>\n",
       "      <th>75%</th>\n",
       "      <td>214250.000000</td>\n",
       "      <td>7.000000</td>\n",
       "      <td>1407.750000</td>\n",
       "      <td>8.000000</td>\n",
       "      <td>2001.000000</td>\n",
       "      <td>78.000000</td>\n",
       "    </tr>\n",
       "    <tr>\n",
       "      <th>max</th>\n",
       "      <td>745000.000000</td>\n",
       "      <td>10.000000</td>\n",
       "      <td>4692.000000</td>\n",
       "      <td>12.000000</td>\n",
       "      <td>2009.000000</td>\n",
       "      <td>313.000000</td>\n",
       "    </tr>\n",
       "  </tbody>\n",
       "</table>\n",
       "</div>"
      ],
      "text/plain": [
       "           SalePrice  OverallQual   1stFloorSF  TotalRooms    YearBuilt  \\\n",
       "count     292.000000   292.000000   292.000000  292.000000   292.000000   \n",
       "mean   182244.869863     6.092466  1187.839041    6.647260  1970.534247   \n",
       "std     82026.898202     1.405076   433.843272    1.685462    31.229373   \n",
       "min     52500.000000     3.000000   483.000000    3.000000  1872.000000   \n",
       "25%    130000.000000     5.000000   881.250000    6.000000  1950.000000   \n",
       "50%    163500.000000     6.000000  1106.000000    6.000000  1971.500000   \n",
       "75%    214250.000000     7.000000  1407.750000    8.000000  2001.000000   \n",
       "max    745000.000000    10.000000  4692.000000   12.000000  2009.000000   \n",
       "\n",
       "       LotFrontage  \n",
       "count   292.000000  \n",
       "mean     70.389212  \n",
       "std      24.727303  \n",
       "min      21.000000  \n",
       "25%      60.000000  \n",
       "50%      70.050000  \n",
       "75%      78.000000  \n",
       "max     313.000000  "
      ]
     },
     "execution_count": 69,
     "metadata": {},
     "output_type": "execute_result"
    }
   ],
   "source": [
    "test_set_df.describe()"
   ]
  },
  {
   "cell_type": "markdown",
   "id": "ccb067a2",
   "metadata": {},
   "source": [
    "## Distribución de las variable dependiente e independientes (y, x1, x2, x3, x4, x5)\n",
    "Histogramas para observar la distribución de cada variable"
   ]
  },
  {
   "cell_type": "code",
   "execution_count": 70,
   "id": "2c2afe2d",
   "metadata": {},
   "outputs": [
    {
     "data": {
      "text/plain": [
       "([<matplotlib.axis.XTick at 0x1f99d82eb80>,\n",
       "  <matplotlib.axis.XTick at 0x1f99d82eb50>,\n",
       "  <matplotlib.axis.XTick at 0x1f99d978940>,\n",
       "  <matplotlib.axis.XTick at 0x1f99d984400>,\n",
       "  <matplotlib.axis.XTick at 0x1f99d984880>,\n",
       "  <matplotlib.axis.XTick at 0x1f99d9880d0>,\n",
       "  <matplotlib.axis.XTick at 0x1f99d988760>,\n",
       "  <matplotlib.axis.XTick at 0x1f99d988eb0>,\n",
       "  <matplotlib.axis.XTick at 0x1f99d992640>,\n",
       "  <matplotlib.axis.XTick at 0x1f99d992d90>,\n",
       "  <matplotlib.axis.XTick at 0x1f99d992670>,\n",
       "  <matplotlib.axis.XTick at 0x1f99d82e970>,\n",
       "  <matplotlib.axis.XTick at 0x1f99d9410a0>,\n",
       "  <matplotlib.axis.XTick at 0x1f99d934af0>,\n",
       "  <matplotlib.axis.XTick at 0x1f99d934be0>,\n",
       "  <matplotlib.axis.XTick at 0x1f99d9a1730>],\n",
       " [Text(0, 0, ''),\n",
       "  Text(0, 0, ''),\n",
       "  Text(0, 0, ''),\n",
       "  Text(0, 0, ''),\n",
       "  Text(0, 0, ''),\n",
       "  Text(0, 0, ''),\n",
       "  Text(0, 0, ''),\n",
       "  Text(0, 0, ''),\n",
       "  Text(0, 0, ''),\n",
       "  Text(0, 0, ''),\n",
       "  Text(0, 0, ''),\n",
       "  Text(0, 0, ''),\n",
       "  Text(0, 0, ''),\n",
       "  Text(0, 0, ''),\n",
       "  Text(0, 0, ''),\n",
       "  Text(0, 0, '')])"
      ]
     },
     "execution_count": 70,
     "metadata": {},
     "output_type": "execute_result"
    },
    {
     "data": {
      "image/png": "[encoded data removed]",
      "text/plain": [
       "<Figure size 1440x720 with 1 Axes>"
      ]
     },
     "metadata": {
      "needs_background": "light"
     },
     "output_type": "display_data"
    }
   ],
   "source": [
    "#De acuerdo con documentación de Seaborn, la función seaborn.distplot será descontinuada en el corto plazo, ellos\n",
    "#recomiendan el uso de displot() o histplot()\n",
    "plt.figure(figsize=(20,10))\n",
    "sns.histplot(data=train_set_df,x=\"SalePrice\",bins=np.arange(0,800000,25000),kde=True).set(title=\"Histograma. SalePrice (y)\")\n",
    "plt.xticks(np.arange(0,800000,50000))"
   ]
  },
  {
   "cell_type": "code",
   "execution_count": 71,
   "id": "a43f8789",
   "metadata": {},
   "outputs": [
    {
     "data": {
      "text/plain": [
       "([<matplotlib.axis.XTick at 0x1f99d9c5e80>,\n",
       "  <matplotlib.axis.XTick at 0x1f99d9c5e50>,\n",
       "  <matplotlib.axis.XTick at 0x1f99da0c880>,\n",
       "  <matplotlib.axis.XTick at 0x1f99da173d0>,\n",
       "  <matplotlib.axis.XTick at 0x1f99da0cdf0>,\n",
       "  <matplotlib.axis.XTick at 0x1f99da17e80>,\n",
       "  <matplotlib.axis.XTick at 0x1f99da1a610>,\n",
       "  <matplotlib.axis.XTick at 0x1f99da1ad60>,\n",
       "  <matplotlib.axis.XTick at 0x1f99c3d62b0>,\n",
       "  <matplotlib.axis.XTick at 0x1f99d9f66a0>,\n",
       "  <matplotlib.axis.XTick at 0x1f99d9f6430>],\n",
       " [Text(0, 0, ''),\n",
       "  Text(0, 0, ''),\n",
       "  Text(0, 0, ''),\n",
       "  Text(0, 0, ''),\n",
       "  Text(0, 0, ''),\n",
       "  Text(0, 0, ''),\n",
       "  Text(0, 0, ''),\n",
       "  Text(0, 0, ''),\n",
       "  Text(0, 0, ''),\n",
       "  Text(0, 0, ''),\n",
       "  Text(0, 0, '')])"
      ]
     },
     "execution_count": 71,
     "metadata": {},
     "output_type": "execute_result"
    },
    {
     "data": {
      "image/png": "[encoded data removed]",
      "text/plain": [
       "<Figure size 1080x576 with 1 Axes>"
      ]
     },
     "metadata": {
      "needs_background": "light"
     },
     "output_type": "display_data"
    }
   ],
   "source": [
    "plt.figure(figsize=(15,8))\n",
    "sns.histplot(data=train_set_df,x=\"OverallQual\",bins=np.arange(0,11,1),kde=True).set(title=\"Histograma. OverallQual (x1)\")\n",
    "plt.xticks(np.arange(0,11,1))"
   ]
  },
  {
   "cell_type": "code",
   "execution_count": 72,
   "id": "82420263",
   "metadata": {},
   "outputs": [
    {
     "data": {
      "text/plain": [
       "[Text(0.5, 1.0, 'Histograma. 1stFloorSF (x2)')]"
      ]
     },
     "execution_count": 72,
     "metadata": {},
     "output_type": "execute_result"
    },
    {
     "data": {
      "image/png": "[encoded data removed]",
      "text/plain": [
       "<Figure size 1080x576 with 1 Axes>"
      ]
     },
     "metadata": {
      "needs_background": "light"
     },
     "output_type": "display_data"
    }
   ],
   "source": [
    "plt.figure(figsize=(15,8))\n",
    "sns.histplot(data=train_set_df,x=\"1stFloorSF\",bins=np.arange(0,3500,250),kde=True).set(title=\"Histograma. 1stFloorSF (x2)\")\n",
    "#plt.xticks(np.arange(0,11,1))"
   ]
  },
  {
   "cell_type": "code",
   "execution_count": 73,
   "id": "a51e8e52",
   "metadata": {},
   "outputs": [
    {
     "data": {
      "text/plain": [
       "([<matplotlib.axis.XTick at 0x1f99e2a3b80>,\n",
       "  <matplotlib.axis.XTick at 0x1f99e2a3b50>,\n",
       "  <matplotlib.axis.XTick at 0x1f99e2eafa0>,\n",
       "  <matplotlib.axis.XTick at 0x1f99e2fb9a0>,\n",
       "  <matplotlib.axis.XTick at 0x1f99e301130>,\n",
       "  <matplotlib.axis.XTick at 0x1f99e301880>,\n",
       "  <matplotlib.axis.XTick at 0x1f99e306100>,\n",
       "  <matplotlib.axis.XTick at 0x1f99e306790>,\n",
       "  <matplotlib.axis.XTick at 0x1f99e301fd0>,\n",
       "  <matplotlib.axis.XTick at 0x1f99e2fbb80>,\n",
       "  <matplotlib.axis.XTick at 0x1f99e2a33a0>,\n",
       "  <matplotlib.axis.XTick at 0x1f99e2d2790>,\n",
       "  <matplotlib.axis.XTick at 0x1f99e2d2280>,\n",
       "  <matplotlib.axis.XTick at 0x1f99e31c5b0>,\n",
       "  <matplotlib.axis.XTick at 0x1f99e31cd00>],\n",
       " [Text(0, 0, ''),\n",
       "  Text(0, 0, ''),\n",
       "  Text(0, 0, ''),\n",
       "  Text(0, 0, ''),\n",
       "  Text(0, 0, ''),\n",
       "  Text(0, 0, ''),\n",
       "  Text(0, 0, ''),\n",
       "  Text(0, 0, ''),\n",
       "  Text(0, 0, ''),\n",
       "  Text(0, 0, ''),\n",
       "  Text(0, 0, ''),\n",
       "  Text(0, 0, ''),\n",
       "  Text(0, 0, ''),\n",
       "  Text(0, 0, ''),\n",
       "  Text(0, 0, '')])"
      ]
     },
     "execution_count": 73,
     "metadata": {},
     "output_type": "execute_result"
    },
    {
     "data": {
      "image/png": "[encoded data removed]",
      "text/plain": [
       "<Figure size 1080x576 with 1 Axes>"
      ]
     },
     "metadata": {
      "needs_background": "light"
     },
     "output_type": "display_data"
    }
   ],
   "source": [
    "plt.figure(figsize=(15,8))\n",
    "sns.histplot(data=train_set_df,x=\"TotalRooms\",bins=np.arange(0,15,1),kde=True).set(title=\"Histograma. Total Rooms (x3)\")\n",
    "plt.xticks(np.arange(0,15,1))"
   ]
  },
  {
   "cell_type": "code",
   "execution_count": 74,
   "id": "30be4db8",
   "metadata": {},
   "outputs": [
    {
     "data": {
      "text/plain": [
       "[Text(0.5, 1.0, 'Histograma. Year Built (x4)')]"
      ]
     },
     "execution_count": 74,
     "metadata": {},
     "output_type": "execute_result"
    },
    {
     "data": {
      "image/png": "[encoded data removed]",
      "text/plain": [
       "<Figure size 1080x576 with 1 Axes>"
      ]
     },
     "metadata": {
      "needs_background": "light"
     },
     "output_type": "display_data"
    }
   ],
   "source": [
    "plt.figure(figsize=(15,8))\n",
    "sns.histplot(data=train_set_df,x=\"YearBuilt\",bins=np.arange(1970,2020,5),kde=True).set(title=\"Histograma. Year Built (x4)\")\n",
    "#plt.xticks(np.arange(0,15,1))"
   ]
  },
  {
   "cell_type": "code",
   "execution_count": 75,
   "id": "a06cfcda",
   "metadata": {},
   "outputs": [
    {
     "data": {
      "text/plain": [
       "[Text(0.5, 1.0, 'Histograma. Lot Frontage (x5)')]"
      ]
     },
     "execution_count": 75,
     "metadata": {},
     "output_type": "execute_result"
    },
    {
     "data": {
      "image/png": "[encoded data removed]",
      "text/plain": [
       "<Figure size 1080x576 with 1 Axes>"
      ]
     },
     "metadata": {
      "needs_background": "light"
     },
     "output_type": "display_data"
    }
   ],
   "source": [
    "plt.figure(figsize=(15,8))\n",
    "sns.histplot(data=train_set_df,x=\"LotFrontage\",bins=np.arange(0,350,10),kde=True).set(title=\"Histograma. Lot Frontage (x5)\")\n",
    "#plt.xticks(np.arange(0,15,1))"
   ]
  },
  {
   "cell_type": "markdown",
   "id": "46293cdd",
   "metadata": {},
   "source": [
    "## Correlación de las variables independientes (_x_) con la dependiente (_y_)"
   ]
  },
  {
   "cell_type": "code",
   "execution_count": 76,
   "id": "ee861388",
   "metadata": {},
   "outputs": [],
   "source": [
    "y_train = dataset[0:1168,0:1]\n",
    "x1_train = dataset[0:1168,1:2]\n",
    "x2_train = dataset[0:1168,2:3]\n",
    "x3_train = dataset[0:1168,3:4]\n",
    "x4_train = dataset[0:1168,4:5]\n",
    "x5_train = train_set_df.iloc[:,5]"
   ]
  },
  {
   "cell_type": "code",
   "execution_count": 77,
   "id": "f320e2a9",
   "metadata": {},
   "outputs": [
    {
     "data": {
      "image/png": "[encoded data removed]",
      "text/plain": [
       "<Figure size 432x288 with 1 Axes>"
      ]
     },
     "metadata": {
      "needs_background": "light"
     },
     "output_type": "display_data"
    },
    {
     "name": "stdout",
     "output_type": "stream",
     "text": [
      "R: 0.7939900504626405\n"
     ]
    }
   ],
   "source": [
    "#Se utiliza el coeficiente de Pearson\n",
    "corr_SalePrice_vrs_OverrallQual=np.corrcoef(train_set_df[\"SalePrice\"],train_set_df[\"OverallQual\"])\n",
    "\n",
    "plt.scatter(x1_train,y_train)\n",
    "plt.title(\"Correlación. SalePrice vrs. OverrallQual\")\n",
    "plt.xlabel(\"OverralQual (x1)\")\n",
    "plt.ylabel(\"SalePrice (y)\")\n",
    "plt.show()\n",
    "print(\"R:\",corr_SalePrice_vrs_OverrallQual[1,0])"
   ]
  },
  {
   "cell_type": "code",
   "execution_count": 78,
   "id": "7a8d22de",
   "metadata": {},
   "outputs": [
    {
     "data": {
      "image/png": "[encoded data removed]",
      "text/plain": [
       "<Figure size 432x288 with 1 Axes>"
      ]
     },
     "metadata": {
      "needs_background": "light"
     },
     "output_type": "display_data"
    },
    {
     "name": "stdout",
     "output_type": "stream",
     "text": [
      "R: 0.6162887000998717\n"
     ]
    }
   ],
   "source": [
    "corr_SalePrice_vrs_1stFloorSF=np.corrcoef(train_set_df[\"SalePrice\"],train_set_df[\"1stFloorSF\"])\n",
    "\n",
    "plt.scatter(x2_train,y_train)\n",
    "plt.title(\"Correlación. SalePrice vrs. 1stFloorSF\")\n",
    "plt.xlabel(\"1stFloorSF (x2)\")\n",
    "plt.ylabel(\"SalePrice (y)\")\n",
    "plt.show()\n",
    "print(\"R:\",corr_SalePrice_vrs_1stFloorSF[1,0])"
   ]
  },
  {
   "cell_type": "code",
   "execution_count": 79,
   "id": "9f960966",
   "metadata": {},
   "outputs": [
    {
     "data": {
      "image/png": "[encoded data removed]",
      "text/plain": [
       "<Figure size 432x288 with 1 Axes>"
      ]
     },
     "metadata": {
      "needs_background": "light"
     },
     "output_type": "display_data"
    },
    {
     "name": "stdout",
     "output_type": "stream",
     "text": [
      "R: 0.5647069399593065\n"
     ]
    }
   ],
   "source": [
    "corr_SalePrice_vrs_TotalRooms=np.corrcoef(train_set_df[\"SalePrice\"],train_set_df[\"TotalRooms\"])\n",
    "\n",
    "plt.scatter(x3_train,y_train)\n",
    "plt.title(\"Correlación. SalePrice vrs. TotalRooms\")\n",
    "plt.xlabel(\"TotalRooms (x3)\")\n",
    "plt.ylabel(\"SalePrice (y)\")\n",
    "plt.show()\n",
    "print(\"R:\",corr_SalePrice_vrs_TotalRooms[1,0])"
   ]
  },
  {
   "cell_type": "code",
   "execution_count": 80,
   "id": "656c6b3d",
   "metadata": {},
   "outputs": [
    {
     "data": {
      "image/png": "[encoded data removed]",
      "text/plain": [
       "<Figure size 432x288 with 1 Axes>"
      ]
     },
     "metadata": {
      "needs_background": "light"
     },
     "output_type": "display_data"
    },
    {
     "name": "stdout",
     "output_type": "stream",
     "text": [
      "R: 0.5341706927117515\n"
     ]
    }
   ],
   "source": [
    "corr_SalePrice_vrs_YearBuilt=np.corrcoef(train_set_df[\"SalePrice\"],train_set_df[\"YearBuilt\"])\n",
    "\n",
    "plt.scatter(x4_train,y_train)\n",
    "plt.title(\"Correlación. SalePrice vrs. YearBuilt\")\n",
    "plt.xlabel(\"YearBuilt (x4)\")\n",
    "plt.ylabel(\"SalePrice (y)\")\n",
    "plt.show()\n",
    "print(\"R:\",corr_SalePrice_vrs_YearBuilt[1,0])"
   ]
  },
  {
   "cell_type": "code",
   "execution_count": 81,
   "id": "59064be3",
   "metadata": {
    "scrolled": false
   },
   "outputs": [
    {
     "data": {
      "image/png": "[encoded data removed]",
      "text/plain": [
       "<Figure size 432x288 with 1 Axes>"
      ]
     },
     "metadata": {
      "needs_background": "light"
     },
     "output_type": "display_data"
    },
    {
     "name": "stdout",
     "output_type": "stream",
     "text": [
      "R: 0.3485384601559167\n"
     ]
    }
   ],
   "source": [
    "corr_SalePrice_vrs_LotFrontage=np.corrcoef(train_set_df[\"SalePrice\"],train_set_df[\"LotFrontage\"])\n",
    "\n",
    "plt.scatter(x5_train,y_train)\n",
    "plt.title(\"Correlación. SalePrice vrs. LotFrontage\")\n",
    "plt.xlabel(\"LotFrontage (x5)\")\n",
    "plt.ylabel(\"SalePrice (y)\")\n",
    "plt.show()\n",
    "print(\"R:\",corr_SalePrice_vrs_LotFrontage[1,0])"
   ]
  },
  {
   "cell_type": "markdown",
   "id": "82059423",
   "metadata": {},
   "source": [
    "## Regresión lineal univariada utilizando una función (x1 = OverallQual)\n",
    "\n",
    "La variable *x* que tiene una mayor correlación con *y* es **OverallQual**, por lo que se tomará como variable independiente para esta modelación.\n",
    "\n",
    "El método a utilizar es el gradiente descendente estocástico, que es un algoritmo de optimización que buscará la recta de mejor ajuste con los datos.\n",
    "\n",
    "En palabras simples, el algoritmo inicia con parámetros de pendiente (m) e intercepto (b) en 0 y va dando \"pasitos\" cambiando los parámetros y calculando el error que tienen en cada iteración (ephochs). Luego de varias iteraciones es elegida aquella recta que minimiza el error (se ha logrado la optimización)."
   ]
  },
  {
   "cell_type": "code",
   "execution_count": 82,
   "id": "689387d1",
   "metadata": {},
   "outputs": [
    {
     "data": {
      "image/png": "[encoded data removed]",
      "text/plain": [
       "<Figure size 432x288 with 1 Axes>"
      ]
     },
     "metadata": {
      "needs_background": "light"
     },
     "output_type": "display_data"
    }
   ],
   "source": [
    "#Se visualizan los datos a utilizar\n",
    "plt.scatter(x1_train,y_train)\n",
    "plt.title(\"Correlación. SalePrice vrs. OverrallQual\")\n",
    "plt.xlabel(\"OverralQual (x1)\")\n",
    "plt.ylabel(\"SalePrice (y)\")\n",
    "plt.show()\n"
   ]
  },
  {
   "cell_type": "code",
   "execution_count": 83,
   "id": "ca1fa0b4",
   "metadata": {},
   "outputs": [
    {
     "data": {
      "text/plain": [
       "((1168, 1), (1168, 1))"
      ]
     },
     "execution_count": 83,
     "metadata": {},
     "output_type": "execute_result"
    }
   ],
   "source": [
    "#Los datos y y x1 se transforman a matrices\n",
    "x1 = np.asmatrix(x1_train)\n",
    "y = np.asmatrix(y_train)\n",
    "\n",
    "x1.shape,y.shape"
   ]
  },
  {
   "cell_type": "code",
   "execution_count": 84,
   "id": "78777403",
   "metadata": {},
   "outputs": [],
   "source": [
    "# La función debe recibir como argumentos: vector X, vector Y, iteraciones (epochs), imprimir_error_cada que indica\n",
    "#cada cuanto hay que imprimir el error en cierta iteración, lr (learning rate), que son los \"pasitos\" que da el modelo en cada\n",
    "#iteración\n",
    "def rlm1 (x,y,epochs,imprimir_error_cada,lr): #Regresión Lineal Manual 1 (rlm1), acá solo definimos los valores que recibirá\n",
    "    return(0) #como no tiene sentencias aún, solo retornará un 0"
   ]
  },
  {
   "cell_type": "code",
   "execution_count": 85,
   "id": "fb99ec77",
   "metadata": {},
   "outputs": [
    {
     "data": {
      "text/plain": [
       "0"
      ]
     },
     "execution_count": 85,
     "metadata": {},
     "output_type": "execute_result"
    }
   ],
   "source": [
    "#probamos la función, al momento solo retornará un 0\n",
    "rlm1(x1,y,100,20,0.0001)\n"
   ]
  },
  {
   "cell_type": "code",
   "execution_count": 86,
   "id": "52563f9e",
   "metadata": {},
   "outputs": [],
   "source": [
    "#La función debe crear una matriz de 2 columnas de la forma (x,1), todos los valores de x acompañados de 1's a la derecha\n",
    "def rlm1 (x,y,epochs,imprimir_error_cada,lr):\n",
    "    fx = x\n",
    "    n=(len(x)) #cantidad de observaciones de x1\n",
    "    \n",
    "    matriz = np.zeros(shape=(n, 2), dtype=np.float32) #agregamos una matriz llena de ceros que tiene tantas filas como x\n",
    "    #y 2 columnas, la primera contendrá el valor de x y a la derecha un 1\n",
    "   \n",
    "    vector1 = np.empty(len(matriz), dtype = np.float32) #Se crea vector que se llenará de 1's\n",
    "    \n",
    "    vector1.fill(1) #El vector anterior se llena de 1'2\n",
    "    \n",
    "    for i in range(len(fx)): #Se utiliza el ciclo range para ir llenando la columna 0 y 1 de la matriz creada anteriormente\n",
    "        matriz[i,0] = fx[i] #la columna 0 se rellenará de los datos de x1\n",
    "        matriz[i,1] = vector1[i] #la columna 1 se rellenará de 1's que provienen del vector 1\n",
    "    print(matriz)"
   ]
  },
  {
   "cell_type": "code",
   "execution_count": 87,
   "id": "f6c72aa8",
   "metadata": {},
   "outputs": [
    {
     "name": "stdout",
     "output_type": "stream",
     "text": [
      "[[7. 1.]\n",
      " [6. 1.]\n",
      " [7. 1.]\n",
      " ...\n",
      " [7. 1.]\n",
      " [8. 1.]\n",
      " [6. 1.]]\n"
     ]
    }
   ],
   "source": [
    "#probamos la función, al momento retornará una matriz de len(x1) x 2\n",
    "#en la columna 0 estarán los datos de x1 y en la columna 1 los 1's requeridos\n",
    "rlm1(x1,y,100,20,0.0001)"
   ]
  },
  {
   "cell_type": "code",
   "execution_count": 88,
   "id": "cfb17536",
   "metadata": {},
   "outputs": [],
   "source": [
    "#Debemos inicializar los parámetros del modelo en un vector (pendiente, intercepto) = (m,b)\n",
    "#luego con cada iteración los parámetros se van ajustando hacia la recta que tenga el menor error\n",
    "def rlm1 (x,y,epochs,imprimir_error_cada,lr):\n",
    "\n",
    "    fx = x\n",
    "    n=(len(x))\n",
    "    \n",
    "    matriz = np.zeros(shape=(n, 2), dtype=np.float32)\n",
    "    vector1 = np.empty(len(matriz), dtype = np.float32)\n",
    "    vector1.fill(1)\n",
    "    \n",
    "    # Creamos el vector columna de m y b, le ponemos coef por COEFicientes\n",
    "    coef = np.ndarray(shape=(2, 1), dtype=np.float32) #creamos vector de 2x1\n",
    "    coef = np.asmatrix(coef) #convertimos el vector a matriz\n",
    "    coef[0,0] = 0 #inicializamos m y b en 0, columna 0 y columna 1\n",
    "    coef[1,0] = 0\n",
    "    \n",
    "    for i in range(len(fx)): \n",
    "        matriz[i,0] = fx[i]\n",
    "        matriz[i,1] = vector1[i]\n",
    "    print(coef)"
   ]
  },
  {
   "cell_type": "code",
   "execution_count": 89,
   "id": "11059bca",
   "metadata": {},
   "outputs": [
    {
     "name": "stdout",
     "output_type": "stream",
     "text": [
      "[[0.]\n",
      " [0.]]\n"
     ]
    }
   ],
   "source": [
    "#probamos la función, al momento imprimimos la matriz de coef y comprobamos que inicia con 0 en cada coeficiente (m y b)\n",
    "rlm1(x1,y,100,20,0.0001)"
   ]
  },
  {
   "cell_type": "code",
   "execution_count": 90,
   "id": "19dc20b2",
   "metadata": {},
   "outputs": [],
   "source": [
    "# Hay dos formas de hacer una regresión bajo este algoritmo, acá estamos usando la estocástica (o al menos intentando)\n",
    "#Con esta forma las epochs son el número de iteraciones que el algoritmo hará, ahora por cada iteración o epoch\n",
    "#Ahora para cacular las y estimadas (y_hat), para ello es requerido usar el producto punto (np.dot) entre la matriz donde está x\n",
    "#acompañada de 0 y la matriz de coeficientes m y b.\n",
    "def rlm1 (x,y,epochs,imprimir_error_cada,lr):\n",
    "  \n",
    "    fx = x\n",
    "    n=(len(x))\n",
    "    fy = y # tomamos ya las y observadas o datos reales\n",
    "    ite = epochs #definimos las epochs como el número de iteraciones que dará el modelo\n",
    "    \n",
    "    matriz = np.zeros(shape=(n, 2), dtype=np.float32)\n",
    "    vector1 = np.empty(len(matriz), dtype = np.float32)\n",
    "    vector1.fill(1)\n",
    "    \n",
    "    coef = np.ndarray(shape=(2, 1), dtype=np.float32)\n",
    "    coef = np.asmatrix(coef)\n",
    "    coef[0,0] = 0\n",
    "    coef[1,0] = 0\n",
    "    \n",
    "    for i in range(len(fx)): \n",
    "        matriz[i,0] = fx[i]\n",
    "        matriz[i,1] = vector1[i]\n",
    "    \n",
    "    # Se realiza el producto punto entre la matriz de (x,1) y la de coeficientes (m,b), se usa un for que indica cuántas\n",
    "    #iteraciones se deben hacer, lo que depende de las epochs que definió el usuario al inicio de la función\n",
    "    for j in range(ite): \n",
    "        y_hat = np.dot(matriz,coef)\n",
    "    print(y_hat.shape)\n",
    "    print(y_hat)\n"
   ]
  },
  {
   "cell_type": "code",
   "execution_count": 91,
   "id": "5f584854",
   "metadata": {},
   "outputs": [
    {
     "name": "stdout",
     "output_type": "stream",
     "text": [
      "(1168, 1)\n",
      "[[0.]\n",
      " [0.]\n",
      " [0.]\n",
      " ...\n",
      " [0.]\n",
      " [0.]\n",
      " [0.]]\n"
     ]
    }
   ],
   "source": [
    "#probamos la función, al momento imprimimos los y_hat, como no hemos aún trabajado en los errores, nos saldrá 0 porque los\n",
    "#eficientes siguen siendo 0 al momento. Podemos ver que la matriz de y_hat tiene 1168 filas (las mismas que x) y 1 columna\n",
    "rlm1(x1,y,100,20,0.0001)"
   ]
  },
  {
   "cell_type": "code",
   "execution_count": 92,
   "id": "07dedaf4",
   "metadata": {},
   "outputs": [],
   "source": [
    "#Calcular el error usando (la diferencia entre y - y_hat), la formula requerida es error = (1/2)promedio((y-y_hat)^2)\n",
    "def rlm1 (x,y,epochs,imprimir_error_cada,lr):\n",
    "\n",
    "    fx = x\n",
    "    fy = y\n",
    "    ite = epochs\n",
    "    n=(len(x))\n",
    "    lr=lr #Asignamos el learning rate que el usuario ingresa a la variable lr dentro de la función\n",
    "    \n",
    "\n",
    "    matriz = np.zeros(shape=(len(fx), 2), dtype=np.float32)\n",
    "    vector1 = np.empty(len(matriz), dtype = np.float32)\n",
    "    vector1.fill(1)\n",
    "    \n",
    "\n",
    "    coef = np.ndarray(shape=(2, 1), dtype=np.float32)\n",
    "    coef[0,0] = 0\n",
    "    coef[1,0] = 0\n",
    "    \n",
    "\n",
    "    for i in range(len(fx)): \n",
    "        matriz[i,0] = fx[i]\n",
    "        matriz[i,1] = vector1[i]\n",
    "    \n",
    "    # Creamos una matriz que recibirá los resultados finales de nuestra regresión, las 5 columnas serán el # de iteración,\n",
    "    #el learning rate, las epochs definidas por el usuario, n como el valor de observaciones y el error.\n",
    "    resultados = np.zeros(shape=(epochs, 5), dtype=np.float32)\n",
    "    \n",
    "    # Calculamos el producto punto de matrices para determinar el valor de y_hat\n",
    "    for j in range(ite): \n",
    "        y_hat = np.dot(matriz,coef)\n",
    "        ce = fy-y_hat #diferencia entre y observada y y estimada\n",
    "        ce_2 = ce #diferencia que más adelante se elevará al cuadrado, por eso el 2\n",
    "        \n",
    "    # Realizamos el cálculo del error elevado al cuadrado    \n",
    "        for k in range(len(y_hat)):\n",
    "            ce_2[k] = ce[k]*ce[k]\n",
    "            \n",
    "        #esta es la fórmula error = (1/2) promedio((y-y_hat)^2)    \n",
    "        error1 = (1/2)*np.mean((ce_2),axis=0)# el axis=0 indica que la operación e1 se hará hacia abajo a lo largo de cada columna\n",
    "        \n",
    "        resultados[j,0]=j+1 #la 1ra columna de la matriz de resultados será el # de iteración\n",
    "        resultados[j,1]=lr #la 2da columna de la matriz de resultados será el learning rate definido por el usuario\n",
    "        resultados[j,2]=epochs #la 3ra columna de la matriz de resultados será el número de epochs definifos por el usuario\n",
    "        resultados[j,3]=n #la 4ta columna de la matriz de resultados será la cantidad de observaciones de x1\n",
    "        resultados[j,4]=error1 #la 5ta columna de la matriz de resultados será el error determinado a partir de la fórmula requerida\n",
    "        #en las instrucciones\n",
    "    \n",
    "    resultados_df = pd.DataFrame(resultados,columns=['Iteración', 'Learning rate (lr)', 'Epochs','n','Error'])\n",
    "    print(resultados_df)\n"
   ]
  },
  {
   "cell_type": "code",
   "execution_count": 93,
   "id": "e87e0fa6",
   "metadata": {},
   "outputs": [
    {
     "name": "stdout",
     "output_type": "stream",
     "text": [
      "    Iteración  Learning rate (lr)  Epochs       n         Error\n",
      "0         1.0              0.0001   100.0  1168.0  1.940972e+10\n",
      "1         2.0              0.0001   100.0  1168.0  1.940972e+10\n",
      "2         3.0              0.0001   100.0  1168.0  1.940972e+10\n",
      "3         4.0              0.0001   100.0  1168.0  1.940972e+10\n",
      "4         5.0              0.0001   100.0  1168.0  1.940972e+10\n",
      "..        ...                 ...     ...     ...           ...\n",
      "95       96.0              0.0001   100.0  1168.0  1.940972e+10\n",
      "96       97.0              0.0001   100.0  1168.0  1.940972e+10\n",
      "97       98.0              0.0001   100.0  1168.0  1.940972e+10\n",
      "98       99.0              0.0001   100.0  1168.0  1.940972e+10\n",
      "99      100.0              0.0001   100.0  1168.0  1.940972e+10\n",
      "\n",
      "[100 rows x 5 columns]\n"
     ]
    }
   ],
   "source": [
    "#probamos la función, al momento nos imprimira el dataframe de resultados. Podremos observar que como no hemos integrado el\n",
    "#gradiente, de momento todas las columnas son constantes\n",
    "rlm1(x1,y,100,20,0.0001)"
   ]
  },
  {
   "cell_type": "code",
   "execution_count": 94,
   "id": "62cf801e",
   "metadata": {},
   "outputs": [],
   "source": [
    "#Vamos a determinar el gradiente del error con la función gradiente = promedio(y-yhay)x[x,1]\n",
    "def rlm1 (x,y,epochs,imprimir_error_cada,lr):\n",
    "\n",
    "    fx = x\n",
    "    fy = y\n",
    "    ite = epochs\n",
    "    n=(len(x))\n",
    "    lr=lr\n",
    "    \n",
    "\n",
    "    matriz = np.zeros(shape=(len(fx), 2), dtype=np.float32)\n",
    "    vector1 = np.empty(len(matriz), dtype = np.float32)\n",
    "    vector1.fill(1)\n",
    "    \n",
    "\n",
    "    coef = np.ndarray(shape=(2, 1), dtype=np.float32)\n",
    "    coef[0,0] = 0\n",
    "    coef[1,0] = 0\n",
    "    \n",
    "\n",
    "    for i in range(len(fx)): \n",
    "        matriz[i,0] = fx[i]\n",
    "        matriz[i,1] = vector1[i]\n",
    "    \n",
    "    resultados = np.zeros(shape=(epochs, 5), dtype=np.float32)\n",
    "    \n",
    "    for j in range(ite): \n",
    "        y_hat = np.dot(matriz,coef)\n",
    "        ce = fy-y_hat\n",
    "        ce_2 = ce\n",
    "        \n",
    "        gradiente_0 = y_hat - fy #Empezamos a calcular el gradiente con la diferencia entre y_hat y y_observada, falta \n",
    "        #multiplicarlo por x y promediarlo\n",
    "  \n",
    "        for k in range(len(y_hat)):\n",
    "            ce_2[k] = ce[k]*ce[k]\n",
    "               \n",
    "        error1 = (1/2)*np.mean((ce_2),axis=0)\n",
    "        \n",
    "        #Generamos un vector de dos columnas con igual número de filas que el gradiente \n",
    "        #(que por depender de y, tendrá la misma amplitud), el vector estará lleno de ceros\n",
    "        gradiente = np.zeros(shape=(len(gradiente_0), 2), dtype=np.float32) \n",
    "  \n",
    "        \n",
    "        l = 0 #Iniciamos un contador en 0\n",
    "        \n",
    "        for l in range(len(ce)): #usamos un for para ir multiplicando c/gradiente con la matriz (x,1) (la que generamos casi\n",
    "            #al inicio de la función)\n",
    "            gradiente[l,0] = gradiente_0[l]*matriz[l,0] #gradiente fila l y columna cero = grad*matriz\n",
    "            gradiente[l,1] = gradiente_0[l]*matriz[l,1] #gradiente fila l y columna cero = grad*matriz\n",
    "            \n",
    "        gradiente = np.mean(gradiente,axis=0) #al vector resultante le calculamos la media, axis=0 significa que será hacia\n",
    "        #abajo la operación. Con esto completamos la fórmula solicitada gradiente = promedio(y-yhay)x[x,1]\n",
    "        \n",
    "        resultados[j,0]=j+1\n",
    "        resultados[j,1]=lr\n",
    "        resultados[j,2]=epochs\n",
    "        resultados[j,3]=n\n",
    "        resultados[j,4]=error1\n",
    "    \n",
    "    resultados_df = pd.DataFrame(resultados,columns=['Iteración', 'Learning rate (lr)', 'Epochs','n','Error'])\n",
    "    print(resultados_df)\n"
   ]
  },
  {
   "cell_type": "code",
   "execution_count": 95,
   "id": "7aa8b804",
   "metadata": {
    "scrolled": true
   },
   "outputs": [
    {
     "name": "stdout",
     "output_type": "stream",
     "text": [
      "    Iteración  Learning rate (lr)  Epochs       n         Error\n",
      "0         1.0              0.0001   100.0  1168.0  1.940972e+10\n",
      "1         2.0              0.0001   100.0  1168.0  1.940972e+10\n",
      "2         3.0              0.0001   100.0  1168.0  1.940972e+10\n",
      "3         4.0              0.0001   100.0  1168.0  1.940972e+10\n",
      "4         5.0              0.0001   100.0  1168.0  1.940972e+10\n",
      "..        ...                 ...     ...     ...           ...\n",
      "95       96.0              0.0001   100.0  1168.0  1.940972e+10\n",
      "96       97.0              0.0001   100.0  1168.0  1.940972e+10\n",
      "97       98.0              0.0001   100.0  1168.0  1.940972e+10\n",
      "98       99.0              0.0001   100.0  1168.0  1.940972e+10\n",
      "99      100.0              0.0001   100.0  1168.0  1.940972e+10\n",
      "\n",
      "[100 rows x 5 columns]\n"
     ]
    }
   ],
   "source": [
    "#probamos la función hasta este punto no hay cambio porque el gradiente aún no se ha usado, se usará en el paso siguiente\n",
    "rlm1(x1,y,100,20,0.0001)"
   ]
  },
  {
   "cell_type": "code",
   "execution_count": null,
   "id": "11f60b31",
   "metadata": {},
   "outputs": [],
   "source": []
  },
  {
   "cell_type": "code",
   "execution_count": 124,
   "id": "f1fd2e2e",
   "metadata": {},
   "outputs": [],
   "source": [
    "#Ya con el gradiente debemos actualizar los parámetros (coeficientes m y b) de la función con la\n",
    "# fórmula [m,c] = [m,c] - lr * Gradiente\n",
    "\n",
    "def rlm1 (x,y,epochs,imprimir_error_cada,lr):\n",
    "    fx = x\n",
    "    fy = y\n",
    "    ite = epochs\n",
    "    n= float(len(fx))\n",
    "    lr=lr\n",
    "    imprimir_error_cada = imprimir_error_cada\n",
    "    \n",
    "    ite_imprimir = int(ite/imprimir_error_cada) #se define el total de iteraciones (epochs) entre el múltiplo de \n",
    "    #iteraciones en las cuales se imprimirá el error y se trinca a número int porque una matriz no tiene filas en float\n",
    "    \n",
    "    w = ite_imprimir-1 #w será el número de iteración (viéndolo desde la matriz sería la fila) en que se imprimirá el error\n",
    "    #se coloca el -1 porque las filas en python comienzan en 0\n",
    "    \n",
    "\n",
    "    matriz = np.zeros(shape=(len(fx), 2), dtype=np.float32)\n",
    "    vector1 = np.empty(len(matriz), dtype = np.float32)\n",
    "    vector1.fill(1)\n",
    "    \n",
    "\n",
    "    coef = np.ndarray(shape=(2, 1), dtype=np.float32)\n",
    "    coef[0,0] = 0\n",
    "    coef[1,0] = 0\n",
    "    \n",
    "    i = 0\n",
    "    for i in range(len(fx)): \n",
    "        matriz[i,0] = fx[i]\n",
    "        matriz[i,1] = vector1[i]\n",
    "    \n",
    "    resultados = np.zeros(shape=(epochs, 7), dtype=np.float32)\n",
    "    \n",
    "    # Para la variable que recibe sobre imprimir el error cada cierto número de iteraciones\n",
    "    #creamos una matriz para recibir estos resultados\n",
    "    tabla_error_iteracion = np.zeros(shape=(ite_imprimir, 7), dtype=np.float32)\n",
    "    \n",
    "    j = 0\n",
    "    for j in range(ite): \n",
    "        y_hat = np.dot(matriz,coef)\n",
    "        ce = fy-y_hat\n",
    "        ce_2 = ce\n",
    "        \n",
    "        gradiente_0 = y_hat - fy\n",
    "  \n",
    "        for k in range(len(y_hat)):\n",
    "            ce_2[k] = ce[k]*ce[k]\n",
    "               \n",
    "        error1 = (1/2)*np.mean((ce_2))#,axis=0)\n",
    "        \n",
    "\n",
    "        gradiente = np.zeros(shape=(len(gradiente_0), 2), dtype=np.float32) \n",
    "  \n",
    "        \n",
    "        l = 0\n",
    "        for l in range(len(ce)):\n",
    "            gradiente[l,0] = gradiente_0[l]*matriz[l,0]\n",
    "            gradiente[l,1] = gradiente_0[l]*matriz[l,1]\n",
    "            \n",
    "        gradiente = np.mean(gradiente,axis=0)\n",
    "        \n",
    "        coef[0,0] = (coef[0,0] - (lr*gradiente[0])) #se aplica la fórmula solicitada para calcular los nuevos m y b\n",
    "        coef[1,0] = (coef[1,0] - (lr*gradiente[1])) #estos parámetros se van ajustando \"pasito a pasito\"\n",
    "        \n",
    "        resultados[j,0]=j+1 #Se asignan los resultados a la tabla \"resultados\"\n",
    "        resultados[j,1]=lr\n",
    "        resultados[j,2]=epochs\n",
    "        resultados[j,3]=n\n",
    "        resultados[j,4]=coef[0,0]\n",
    "        resultados[j,5]=coef[1,0]\n",
    "        resultados[j,6]=error1\n",
    "    \n",
    "        if (imprimir_error_cada-1 == w):\n",
    "            tabla_error_iteracion[int(j/imprimir_error_cada),0]=j+1 #se agregan los valores a las columnas de la tabla que\n",
    "            tabla_error_iteracion[int(j/imprimir_error_cada),1]=lr #imprimirá los errores cada cierto número de iteraciones\n",
    "            tabla_error_iteracion[int(j/imprimir_error_cada),2]=epochs\n",
    "            tabla_error_iteracion[int(j/imprimir_error_cada),3]=n\n",
    "            tabla_error_iteracion[int(j/imprimir_error_cada),4]=coef[0,0]\n",
    "            tabla_error_iteracion[int(j/imprimir_error_cada),5]=coef[1,0]\n",
    "            tabla_error_iteracion[int(j/imprimir_error_cada),6]=error1\n",
    "            w = 0\n",
    "            \n",
    "        w = w + 1\n",
    "\n",
    "    tabla_error_iteracion_df = pd.DataFrame(tabla_error_iteracion,columns=['Iteración', 'Lr', 'epochs','n','m','b', 'error'])        \n",
    "    resultados_df = pd.DataFrame(resultados,columns=['Iteración', 'Lr', 'epochs','n','m','b', 'error'])\n",
    "    resultados_df.plot(x=\"Iteración\", y=\"error\")\n",
    "    return(resultados_df)"
   ]
  },
  {
   "cell_type": "code",
   "execution_count": 125,
   "id": "3db5792e",
   "metadata": {},
   "outputs": [
    {
     "data": {
      "text/html": [
       "<div>\n",
       "<style scoped>\n",
       "    .dataframe tbody tr th:only-of-type {\n",
       "        vertical-align: middle;\n",
       "    }\n",
       "\n",
       "    .dataframe tbody tr th {\n",
       "        vertical-align: top;\n",
       "    }\n",
       "\n",
       "    .dataframe thead th {\n",
       "        text-align: right;\n",
       "    }\n",
       "</style>\n",
       "<table border=\"1\" class=\"dataframe\">\n",
       "  <thead>\n",
       "    <tr style=\"text-align: right;\">\n",
       "      <th></th>\n",
       "      <th>Iteración</th>\n",
       "      <th>Lr</th>\n",
       "      <th>epochs</th>\n",
       "      <th>n</th>\n",
       "      <th>m</th>\n",
       "      <th>b</th>\n",
       "      <th>error</th>\n",
       "    </tr>\n",
       "  </thead>\n",
       "  <tbody>\n",
       "    <tr>\n",
       "      <th>0</th>\n",
       "      <td>1.0</td>\n",
       "      <td>0.0001</td>\n",
       "      <td>1000.0</td>\n",
       "      <td>1168.0</td>\n",
       "      <td>118.794739</td>\n",
       "      <td>18.059021</td>\n",
       "      <td>1.940972e+10</td>\n",
       "    </tr>\n",
       "    <tr>\n",
       "      <th>1</th>\n",
       "      <td>2.0</td>\n",
       "      <td>0.0001</td>\n",
       "      <td>1000.0</td>\n",
       "      <td>1168.0</td>\n",
       "      <td>237.113708</td>\n",
       "      <td>36.043716</td>\n",
       "      <td>1.926563e+10</td>\n",
       "    </tr>\n",
       "    <tr>\n",
       "      <th>2</th>\n",
       "      <td>3.0</td>\n",
       "      <td>0.0001</td>\n",
       "      <td>1000.0</td>\n",
       "      <td>1168.0</td>\n",
       "      <td>354.958618</td>\n",
       "      <td>53.954498</td>\n",
       "      <td>1.912269e+10</td>\n",
       "    </tr>\n",
       "    <tr>\n",
       "      <th>3</th>\n",
       "      <td>4.0</td>\n",
       "      <td>0.0001</td>\n",
       "      <td>1000.0</td>\n",
       "      <td>1168.0</td>\n",
       "      <td>472.332031</td>\n",
       "      <td>71.791573</td>\n",
       "      <td>1.898089e+10</td>\n",
       "    </tr>\n",
       "    <tr>\n",
       "      <th>4</th>\n",
       "      <td>5.0</td>\n",
       "      <td>0.0001</td>\n",
       "      <td>1000.0</td>\n",
       "      <td>1168.0</td>\n",
       "      <td>589.235291</td>\n",
       "      <td>89.555229</td>\n",
       "      <td>1.884022e+10</td>\n",
       "    </tr>\n",
       "    <tr>\n",
       "      <th>...</th>\n",
       "      <td>...</td>\n",
       "      <td>...</td>\n",
       "      <td>...</td>\n",
       "      <td>...</td>\n",
       "      <td>...</td>\n",
       "      <td>...</td>\n",
       "      <td>...</td>\n",
       "    </tr>\n",
       "    <tr>\n",
       "      <th>995</th>\n",
       "      <td>996.0</td>\n",
       "      <td>0.0001</td>\n",
       "      <td>1000.0</td>\n",
       "      <td>1168.0</td>\n",
       "      <td>29157.529297</td>\n",
       "      <td>4065.617920</td>\n",
       "      <td>1.398545e+09</td>\n",
       "    </tr>\n",
       "    <tr>\n",
       "      <th>996</th>\n",
       "      <td>997.0</td>\n",
       "      <td>0.0001</td>\n",
       "      <td>1000.0</td>\n",
       "      <td>1168.0</td>\n",
       "      <td>29159.779297</td>\n",
       "      <td>4065.481201</td>\n",
       "      <td>1.398494e+09</td>\n",
       "    </tr>\n",
       "    <tr>\n",
       "      <th>997</th>\n",
       "      <td>998.0</td>\n",
       "      <td>0.0001</td>\n",
       "      <td>1000.0</td>\n",
       "      <td>1168.0</td>\n",
       "      <td>29162.021484</td>\n",
       "      <td>4065.343262</td>\n",
       "      <td>1.398443e+09</td>\n",
       "    </tr>\n",
       "    <tr>\n",
       "      <th>998</th>\n",
       "      <td>999.0</td>\n",
       "      <td>0.0001</td>\n",
       "      <td>1000.0</td>\n",
       "      <td>1168.0</td>\n",
       "      <td>29164.253906</td>\n",
       "      <td>4065.203857</td>\n",
       "      <td>1.398393e+09</td>\n",
       "    </tr>\n",
       "    <tr>\n",
       "      <th>999</th>\n",
       "      <td>1000.0</td>\n",
       "      <td>0.0001</td>\n",
       "      <td>1000.0</td>\n",
       "      <td>1168.0</td>\n",
       "      <td>29166.478516</td>\n",
       "      <td>4065.063232</td>\n",
       "      <td>1.398343e+09</td>\n",
       "    </tr>\n",
       "  </tbody>\n",
       "</table>\n",
       "<p>1000 rows × 7 columns</p>\n",
       "</div>"
      ],
      "text/plain": [
       "     Iteración      Lr  epochs       n             m            b  \\\n",
       "0          1.0  0.0001  1000.0  1168.0    118.794739    18.059021   \n",
       "1          2.0  0.0001  1000.0  1168.0    237.113708    36.043716   \n",
       "2          3.0  0.0001  1000.0  1168.0    354.958618    53.954498   \n",
       "3          4.0  0.0001  1000.0  1168.0    472.332031    71.791573   \n",
       "4          5.0  0.0001  1000.0  1168.0    589.235291    89.555229   \n",
       "..         ...     ...     ...     ...           ...          ...   \n",
       "995      996.0  0.0001  1000.0  1168.0  29157.529297  4065.617920   \n",
       "996      997.0  0.0001  1000.0  1168.0  29159.779297  4065.481201   \n",
       "997      998.0  0.0001  1000.0  1168.0  29162.021484  4065.343262   \n",
       "998      999.0  0.0001  1000.0  1168.0  29164.253906  4065.203857   \n",
       "999     1000.0  0.0001  1000.0  1168.0  29166.478516  4065.063232   \n",
       "\n",
       "            error  \n",
       "0    1.940972e+10  \n",
       "1    1.926563e+10  \n",
       "2    1.912269e+10  \n",
       "3    1.898089e+10  \n",
       "4    1.884022e+10  \n",
       "..            ...  \n",
       "995  1.398545e+09  \n",
       "996  1.398494e+09  \n",
       "997  1.398443e+09  \n",
       "998  1.398393e+09  \n",
       "999  1.398343e+09  \n",
       "\n",
       "[1000 rows x 7 columns]"
      ]
     },
     "execution_count": 125,
     "metadata": {},
     "output_type": "execute_result"
    },
    {
     "data": {
      "image/png": "[encoded data removed]",
      "text/plain": [
       "<Figure size 432x288 with 1 Axes>"
      ]
     },
     "metadata": {
      "needs_background": "light"
     },
     "output_type": "display_data"
    }
   ],
   "source": [
    "rlm1(x1,y,1000,20,0.0001)"
   ]
  },
  {
   "cell_type": "markdown",
   "id": "2539e4fd",
   "metadata": {},
   "source": [
    "## Regresión lineal univariada utilizando una función (x2=1stFloorSF)\n",
    "La variable **x** que tiene la más alta correlación luego de OverallQual(x1) es **1stFloorSF (x2)**, por lo que se tomará como variable independiente para esta modelación."
   ]
  },
  {
   "cell_type": "code",
   "execution_count": 129,
   "id": "4b809873",
   "metadata": {},
   "outputs": [
    {
     "data": {
      "text/html": [
       "<div>\n",
       "<style scoped>\n",
       "    .dataframe tbody tr th:only-of-type {\n",
       "        vertical-align: middle;\n",
       "    }\n",
       "\n",
       "    .dataframe tbody tr th {\n",
       "        vertical-align: top;\n",
       "    }\n",
       "\n",
       "    .dataframe thead th {\n",
       "        text-align: right;\n",
       "    }\n",
       "</style>\n",
       "<table border=\"1\" class=\"dataframe\">\n",
       "  <thead>\n",
       "    <tr style=\"text-align: right;\">\n",
       "      <th></th>\n",
       "      <th>Iteración</th>\n",
       "      <th>Lr</th>\n",
       "      <th>epochs</th>\n",
       "      <th>n</th>\n",
       "      <th>m</th>\n",
       "      <th>b</th>\n",
       "      <th>error</th>\n",
       "    </tr>\n",
       "  </thead>\n",
       "  <tbody>\n",
       "    <tr>\n",
       "      <th>0</th>\n",
       "      <td>1.0</td>\n",
       "      <td>0.0001</td>\n",
       "      <td>10.0</td>\n",
       "      <td>1168.0</td>\n",
       "      <td>2.269610e+04</td>\n",
       "      <td>1.805902e+01</td>\n",
       "      <td>1.940972e+10</td>\n",
       "    </tr>\n",
       "    <tr>\n",
       "      <th>1</th>\n",
       "      <td>2.0</td>\n",
       "      <td>0.0001</td>\n",
       "      <td>10.0</td>\n",
       "      <td>1168.0</td>\n",
       "      <td>-3.306091e+06</td>\n",
       "      <td>-2.588287e+03</td>\n",
       "      <td>3.751963e+14</td>\n",
       "    </tr>\n",
       "    <tr>\n",
       "      <th>2</th>\n",
       "      <td>3.0</td>\n",
       "      <td>0.0001</td>\n",
       "      <td>10.0</td>\n",
       "      <td>1168.0</td>\n",
       "      <td>4.849193e+08</td>\n",
       "      <td>3.797211e+05</td>\n",
       "      <td>8.070972e+18</td>\n",
       "    </tr>\n",
       "    <tr>\n",
       "      <th>3</th>\n",
       "      <td>4.0</td>\n",
       "      <td>0.0001</td>\n",
       "      <td>10.0</td>\n",
       "      <td>1168.0</td>\n",
       "      <td>-7.112192e+10</td>\n",
       "      <td>-5.569270e+07</td>\n",
       "      <td>1.736179e+23</td>\n",
       "    </tr>\n",
       "    <tr>\n",
       "      <th>4</th>\n",
       "      <td>5.0</td>\n",
       "      <td>0.0001</td>\n",
       "      <td>10.0</td>\n",
       "      <td>1168.0</td>\n",
       "      <td>1.043129e+13</td>\n",
       "      <td>8.168311e+09</td>\n",
       "      <td>3.734761e+27</td>\n",
       "    </tr>\n",
       "    <tr>\n",
       "      <th>5</th>\n",
       "      <td>6.0</td>\n",
       "      <td>0.0001</td>\n",
       "      <td>10.0</td>\n",
       "      <td>1168.0</td>\n",
       "      <td>-1.529934e+15</td>\n",
       "      <td>-1.198028e+12</td>\n",
       "      <td>8.033999e+31</td>\n",
       "    </tr>\n",
       "    <tr>\n",
       "      <th>6</th>\n",
       "      <td>7.0</td>\n",
       "      <td>0.0001</td>\n",
       "      <td>10.0</td>\n",
       "      <td>1168.0</td>\n",
       "      <td>2.243919e+17</td>\n",
       "      <td>1.757118e+14</td>\n",
       "      <td>1.728228e+36</td>\n",
       "    </tr>\n",
       "    <tr>\n",
       "      <th>7</th>\n",
       "      <td>8.0</td>\n",
       "      <td>0.0001</td>\n",
       "      <td>10.0</td>\n",
       "      <td>1168.0</td>\n",
       "      <td>-3.291103e+19</td>\n",
       "      <td>-2.577126e+16</td>\n",
       "      <td>inf</td>\n",
       "    </tr>\n",
       "    <tr>\n",
       "      <th>8</th>\n",
       "      <td>9.0</td>\n",
       "      <td>0.0001</td>\n",
       "      <td>10.0</td>\n",
       "      <td>1168.0</td>\n",
       "      <td>4.826984e+21</td>\n",
       "      <td>3.779810e+18</td>\n",
       "      <td>inf</td>\n",
       "    </tr>\n",
       "    <tr>\n",
       "      <th>9</th>\n",
       "      <td>10.0</td>\n",
       "      <td>0.0001</td>\n",
       "      <td>10.0</td>\n",
       "      <td>1168.0</td>\n",
       "      <td>-7.079625e+23</td>\n",
       "      <td>-5.543763e+20</td>\n",
       "      <td>inf</td>\n",
       "    </tr>\n",
       "  </tbody>\n",
       "</table>\n",
       "</div>"
      ],
      "text/plain": [
       "   Iteración      Lr  epochs       n             m             b         error\n",
       "0        1.0  0.0001    10.0  1168.0  2.269610e+04  1.805902e+01  1.940972e+10\n",
       "1        2.0  0.0001    10.0  1168.0 -3.306091e+06 -2.588287e+03  3.751963e+14\n",
       "2        3.0  0.0001    10.0  1168.0  4.849193e+08  3.797211e+05  8.070972e+18\n",
       "3        4.0  0.0001    10.0  1168.0 -7.112192e+10 -5.569270e+07  1.736179e+23\n",
       "4        5.0  0.0001    10.0  1168.0  1.043129e+13  8.168311e+09  3.734761e+27\n",
       "5        6.0  0.0001    10.0  1168.0 -1.529934e+15 -1.198028e+12  8.033999e+31\n",
       "6        7.0  0.0001    10.0  1168.0  2.243919e+17  1.757118e+14  1.728228e+36\n",
       "7        8.0  0.0001    10.0  1168.0 -3.291103e+19 -2.577126e+16           inf\n",
       "8        9.0  0.0001    10.0  1168.0  4.826984e+21  3.779810e+18           inf\n",
       "9       10.0  0.0001    10.0  1168.0 -7.079625e+23 -5.543763e+20           inf"
      ]
     },
     "execution_count": 129,
     "metadata": {},
     "output_type": "execute_result"
    },
    {
     "data": {
      "image/png": "[encoded data removed]",
      "text/plain": [
       "<Figure size 432x288 with 1 Axes>"
      ]
     },
     "metadata": {
      "needs_background": "light"
     },
     "output_type": "display_data"
    }
   ],
   "source": [
    "x2=x2_train\n",
    "rlm1(x2,y,10,20,0.0001)"
   ]
  },
  {
   "cell_type": "markdown",
   "id": "b76ada63",
   "metadata": {},
   "source": [
    "## Regresión lineal univariada con scikit-learn\n",
    "Las dos variables independientes que se tomarán son OverallQual y 1stFloorSF"
   ]
  },
  {
   "cell_type": "code",
   "execution_count": 179,
   "id": "8acce6c4",
   "metadata": {},
   "outputs": [
    {
     "name": "stdout",
     "output_type": "stream",
     "text": [
      "Coef. de determinación R2: 0.6304202002336672\n",
      "Pendiente (m): [[45411.99877916]]\n",
      "Intercepto (b): [-96469.57131874]\n",
      "La función de recta con mejor ajuste es: y =  [[45411.99877916]] x + [-96469.57131874]\n"
     ]
    },
    {
     "data": {
      "image/png": "[encoded data removed]",
      "text/plain": [
       "<Figure size 432x288 with 1 Axes>"
      ]
     },
     "metadata": {
      "needs_background": "light"
     },
     "output_type": "display_data"
    }
   ],
   "source": [
    "#El primer modelo se corre con SalePrice(y) vrs OverallQual(x1):\n",
    "modelo_regresion_sk_x1=LinearRegression()\n",
    "modelo_regresion_sk_x1.fit(x1_train,y_train)\n",
    "r2_x1 = modelo_regresion_sk_x1.score(x1_train,y_train)\n",
    "modelo_regresion_sk_x1.coef_\n",
    "modelo_regresion_sk_x1.intercept_\n",
    "\n",
    "print(\"Coef. de determinación R2:\",r2_x1)\n",
    "print(\"Pendiente (m):\",modelo_regresion_sk_x1.coef_)\n",
    "print(\"Intercepto (b):\",modelo_regresion_sk_x1.intercept_)\n",
    "\n",
    "print(\"La función de recta con mejor ajuste es: y = \",modelo_regresion_sk_x1.coef_,\"x +\",modelo_regresion_sk_x1.intercept_)\n",
    "\n",
    "y_hat_sk_x1 = (modelo_regresion_sk_x1.coef_) * x1_train + (modelo_regresion_sk_x1.intercept_)\n",
    "plt.scatter(x1_train, y_train) \n",
    "plt.plot([min(x1_train), max(x1_train)], [min(y_hat_sk_x1), max(y_hat_sk_x1)], color='red')\n",
    "plt.show()"
   ]
  },
  {
   "cell_type": "code",
   "execution_count": 181,
   "id": "d5d9cb72",
   "metadata": {},
   "outputs": [
    {
     "name": "stdout",
     "output_type": "stream",
     "text": [
      "Coef. de determinación R2: 0.37981176187078936\n",
      "Pendiente (m): [[129.95124229]]\n",
      "Intercepto (b): [30324.58517496]\n",
      "La función de recta con mejor ajuste es: y =  [[129.95124229]] x + [30324.58517496]\n"
     ]
    },
    {
     "data": {
      "image/png": "[encoded data removed]",
      "text/plain": [
       "<Figure size 432x288 with 1 Axes>"
      ]
     },
     "metadata": {
      "needs_background": "light"
     },
     "output_type": "display_data"
    }
   ],
   "source": [
    "#El segundo modelo se corre con SalePrice(y) vrs 1stFloorSF(x2):\n",
    "modelo_regresion_sk_x2=LinearRegression()\n",
    "modelo_regresion_sk_x2.fit(x2_train,y_train)\n",
    "r2_x2 = modelo_regresion_sk_x2.score(x2_train,y_train)\n",
    "modelo_regresion_sk_x2.coef_\n",
    "modelo_regresion_sk_x2.intercept_\n",
    "\n",
    "print(\"Coef. de determinación R2:\",r2_x2)\n",
    "print(\"Pendiente (m):\",modelo_regresion_sk_x2.coef_)\n",
    "print(\"Intercepto (b):\",modelo_regresion_sk_x2.intercept_)\n",
    "\n",
    "print(\"La función de recta con mejor ajuste es: y = \",modelo_regresion_sk_x2.coef_,\"x +\",modelo_regresion_sk_x2.intercept_)\n",
    "\n",
    "y_hat_sk_x2 = (modelo_regresion_sk_x2.coef_) * x2_train + (modelo_regresion_sk_x2.intercept_)\n",
    "plt.scatter(x2_train, y_train) \n",
    "plt.plot([min(x2_train), max(x2_train)], [min(y_hat_sk_x2), max(y_hat_sk_x2)], color='green')\n",
    "plt.show()"
   ]
  },
  {
   "cell_type": "code",
   "execution_count": 149,
   "id": "976066cf",
   "metadata": {},
   "outputs": [],
   "source": [
    "#Se genera una función con la librería sk\n",
    "def regresion_sk (x,y):\n",
    "    modelo_regresion_sk_x=LinearRegression()\n",
    "    modelo_regresion_sk_x.fit(x,y)\n",
    "    r2_x = modelo_regresion_sk_x.score(x,y)\n",
    "    modelo_regresion_sk_x.coef_\n",
    "    modelo_regresion_sk_x.intercept_\n",
    "\n",
    "    print(\"Coef. de determinación R2:\",r2_x)\n",
    "    print(\"Pendiente (m):\",modelo_regresion_sk_x.coef_)\n",
    "    print(\"Intercepto (b):\",modelo_regresion_sk_x.intercept_)\n",
    "\n",
    "    print(\"La función de recta con mejor ajuste es: y = \",modelo_regresion_sk_x.coef_,\"x +\",modelo_regresion_sk_x.intercept_)\n",
    "\n",
    "    y_hat_sk_x = (modelo_regresion_sk_x.coef_) * x + (modelo_regresion_sk_x.intercept_)\n",
    "    plt.scatter(x, y) \n",
    "    plt.plot([min(x), max(x)], [min(y_hat_sk_x), max(y_hat_sk_x)], color='red')\n",
    "    plt.show()"
   ]
  },
  {
   "cell_type": "code",
   "execution_count": 151,
   "id": "80ef9483",
   "metadata": {},
   "outputs": [
    {
     "name": "stdout",
     "output_type": "stream",
     "text": [
      "Coef. de determinación R2: 0.6304202002336672\n",
      "Pendiente (m): [[45411.99877916]]\n",
      "Intercepto (b): [-96469.57131874]\n",
      "La función de recta con mejor ajuste es: y =  [[45411.99877916]] x + [-96469.57131874]\n"
     ]
    },
    {
     "data": {
      "image/png": "[encoded data removed]",
      "text/plain": [
       "<Figure size 432x288 with 1 Axes>"
      ]
     },
     "metadata": {
      "needs_background": "light"
     },
     "output_type": "display_data"
    }
   ],
   "source": [
    "regresion_sk(x1_train,y_train)"
   ]
  },
  {
   "cell_type": "code",
   "execution_count": 152,
   "id": "2691d1b7",
   "metadata": {},
   "outputs": [
    {
     "name": "stdout",
     "output_type": "stream",
     "text": [
      "Coef. de determinación R2: 0.37981176187078936\n",
      "Pendiente (m): [[129.95124229]]\n",
      "Intercepto (b): [30324.58517496]\n",
      "La función de recta con mejor ajuste es: y =  [[129.95124229]] x + [30324.58517496]\n"
     ]
    },
    {
     "data": {
      "image/png": "[encoded data removed]",
      "text/plain": [
       "<Figure size 432x288 with 1 Axes>"
      ]
     },
     "metadata": {
      "needs_background": "light"
     },
     "output_type": "display_data"
    }
   ],
   "source": [
    "regresion_sk(x2_train,y_train)"
   ]
  },
  {
   "cell_type": "markdown",
   "id": "b40a3da9",
   "metadata": {},
   "source": [
    "## Función manual adicional: Gradiente descendente con escalares\n",
    "La función únicamente utilizando álgebra matricial no resulta tan eficiente, por lo que también se puede realizar la estimación utilizando escalares."
   ]
  },
  {
   "cell_type": "code",
   "execution_count": 160,
   "id": "3a1a50ca",
   "metadata": {
    "scrolled": true
   },
   "outputs": [],
   "source": [
    "def regresion_linear_escalar (x,y,lr,epochs):\n",
    "    n=float(x.shape[0])\n",
    "    error=[]\n",
    "    m=0\n",
    "    b=0\n",
    "\n",
    "    for i in range(epochs):\n",
    "        y_hat=m*x + b\n",
    "        mse = (1/n)*(np.sum((y-y_hat)**2))\n",
    "        error.append(mse)\n",
    "        gradiente_m = (-2/n) * (np.sum(x*(y - y_hat)))\n",
    "        gradiente_b = (-2/n) * (np.sum((y - y_hat)))\n",
    "        m = m - lr * gradiente_m\n",
    "        b = b - lr * gradiente_b\n",
    "        \n",
    "    print(\"m:\", m)\n",
    "    print(\"b:\", b)\n",
    "        \n",
    "    plt.plot(error)\n",
    "    plt.show()\n"
   ]
  },
  {
   "cell_type": "code",
   "execution_count": 161,
   "id": "f2e7748d",
   "metadata": {},
   "outputs": [
    {
     "name": "stdout",
     "output_type": "stream",
     "text": [
      "m: 29765.590538070268\n",
      "b: 3671.7467000669494\n"
     ]
    },
    {
     "data": {
      "image/png": "[encoded data removed]",
      "text/plain": [
       "<Figure size 432x288 with 1 Axes>"
      ]
     },
     "metadata": {
      "needs_background": "light"
     },
     "output_type": "display_data"
    }
   ],
   "source": [
    "regresion_linear_escalar(x1_train,y_train,0.0001,1000)"
   ]
  },
  {
   "cell_type": "markdown",
   "id": "dc2412c5",
   "metadata": {},
   "source": [
    "El modelo más recomendado sería el determinado a través de la librería Sci KitLearn"
   ]
  },
  {
   "cell_type": "code",
   "execution_count": null,
   "id": "ccd63ac6",
   "metadata": {},
   "outputs": [],
   "source": []
  }
 ],
 "metadata": {
  "kernelspec": {
   "display_name": "Python 3 (ipykernel)",
   "language": "python",
   "name": "python3"
  },
  "language_info": {
   "codemirror_mode": {
    "name": "ipython",
    "version": 3
   },
   "file_extension": ".py",
   "mimetype": "text/x-python",
   "name": "python",
   "nbconvert_exporter": "python",
   "pygments_lexer": "ipython3",
   "version": "3.9.7"
  }
 },
 "nbformat": 4,
 "nbformat_minor": 5
}
